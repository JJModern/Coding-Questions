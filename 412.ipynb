{
 "cells": [
  {
   "cell_type": "code",
   "execution_count": 1,
   "metadata": {},
   "outputs": [],
   "source": [
    "nums = [490693,900498,448195,24359,126032,584252,26132,124479,586672,855404,24359,418495,243450,106232,690685,410981,871863,419180,242524,23549,284759,26132,271146,966337,781863,418495,242524,126032,411980,621032,271641,25349,900894,411980,997268,671059,649498,781836,312273,15727,671095]"
   ]
  },
  {
   "cell_type": "code",
   "execution_count": 7,
   "metadata": {},
   "outputs": [
    {
     "name": "stdout",
     "output_type": "stream",
     "text": [
      "034699\n",
      "004899\n",
      "144589\n",
      "23459\n",
      "012236\n",
      "224558\n",
      "12236\n",
      "124479\n",
      "256678\n",
      "044558\n",
      "23459\n",
      "144589\n",
      "023445\n",
      "012236\n",
      "056689\n",
      "011489\n",
      "136788\n",
      "011489\n",
      "222445\n",
      "23459\n",
      "245789\n",
      "12236\n",
      "112467\n",
      "336679\n",
      "136788\n",
      "144589\n",
      "222445\n",
      "012236\n",
      "011489\n",
      "012236\n",
      "112467\n",
      "23459\n",
      "004899\n",
      "011489\n",
      "267899\n",
      "015679\n",
      "446899\n",
      "136788\n",
      "122337\n",
      "12577\n",
      "015679\n"
     ]
    }
   ],
   "source": [
    "for num in nums:\n",
    "    print(\"\".join(sorted(list(str(num)))))"
   ]
  }
 ],
 "metadata": {
  "kernelspec": {
   "display_name": "ml",
   "language": "python",
   "name": "python3"
  },
  "language_info": {
   "codemirror_mode": {
    "name": "ipython",
    "version": 3
   },
   "file_extension": ".py",
   "mimetype": "text/x-python",
   "name": "python",
   "nbconvert_exporter": "python",
   "pygments_lexer": "ipython3",
   "version": "3.11.3"
  }
 },
 "nbformat": 4,
 "nbformat_minor": 2
}
